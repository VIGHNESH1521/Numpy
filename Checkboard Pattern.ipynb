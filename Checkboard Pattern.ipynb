{
 "cells": [
  {
   "cell_type": "markdown",
   "id": "16754f82",
   "metadata": {},
   "source": [
    "Program to print checkerboard pattern of nxn using numpy\n",
    "\n",
    "\n",
    "Given n, print the checkboard pattern for a n x n matrix\n",
    "\n",
    "It consists of n * n squares of alternating 0 for white and 1 for black.\n",
    "\n",
    "Checkboard Pattern for n = 8:"
   ]
  },
  {
   "cell_type": "markdown",
   "id": "0b513205",
   "metadata": {},
   "source": [
    "x = np.zeros((n, n), dtype=int)\n",
    "\n",
    "Using this function, we initialize a 2-D matrix with 0’s at all index using numpy\n",
    "\n",
    "x[1::2, ::2] = 1 : Slice from 1st index row till 1+2+2… and fill all columns with 1 starting from 0th to 0+2+2… and so on.\n",
    "\n",
    "x[::2, 1::2] = 1 : Slice from 0th row till 0+2+2… and fill all columns with 1 starting from 1 to 1+2+2+….."
   ]
  },
  {
   "cell_type": "code",
   "execution_count": 1,
   "id": "9225252a",
   "metadata": {},
   "outputs": [
    {
     "name": "stdout",
     "output_type": "stream",
     "text": [
      "Checkerboard pattern:\n",
      "0 1 0 1 0 1 0 1 \n",
      "1 0 1 0 1 0 1 0 \n",
      "0 1 0 1 0 1 0 1 \n",
      "1 0 1 0 1 0 1 0 \n",
      "0 1 0 1 0 1 0 1 \n",
      "1 0 1 0 1 0 1 0 \n",
      "0 1 0 1 0 1 0 1 \n",
      "1 0 1 0 1 0 1 0 \n"
     ]
    }
   ],
   "source": [
    "import numpy as np\n",
    "  \n",
    "# function to print Checkerboard pattern\n",
    "def printcheckboard(n):\n",
    "      \n",
    "    print(\"Checkerboard pattern:\")\n",
    "  \n",
    "    # create a n * n matrix\n",
    "    x = np.zeros((n, n), dtype = int)\n",
    "  \n",
    "    # fill with 1 the alternate rows and columns\n",
    "    x[1::2, ::2] = 1\n",
    "    x[::2, 1::2] = 1\n",
    "      \n",
    "    # print the pattern\n",
    "    for i in range(n):\n",
    "        for j in range(n):\n",
    "            print(x[i][j], end =\" \") \n",
    "        print() \n",
    "  \n",
    "  \n",
    "n = 8\n",
    "printcheckboard(n)"
   ]
  },
  {
   "cell_type": "code",
   "execution_count": 4,
   "id": "11531cba",
   "metadata": {},
   "outputs": [
    {
     "name": "stdout",
     "output_type": "stream",
     "text": [
      "[[0 0 0 0 0 0 0 0]\n",
      " [1 0 1 0 1 0 1 0]\n",
      " [0 0 0 0 0 0 0 0]\n",
      " [1 0 1 0 1 0 1 0]\n",
      " [0 0 0 0 0 0 0 0]\n",
      " [1 0 1 0 1 0 1 0]\n",
      " [0 0 0 0 0 0 0 0]\n",
      " [1 0 1 0 1 0 1 0]]\n"
     ]
    }
   ],
   "source": [
    "  x = np.zeros((n, n), dtype = int)\n",
    "x[1::2, ::2] = 1\n",
    "print(x)"
   ]
  },
  {
   "cell_type": "code",
   "execution_count": 5,
   "id": "164ed90b",
   "metadata": {},
   "outputs": [
    {
     "name": "stdout",
     "output_type": "stream",
     "text": [
      "[[0 1 0 1 0 1 0 1]\n",
      " [0 0 0 0 0 0 0 0]\n",
      " [0 1 0 1 0 1 0 1]\n",
      " [0 0 0 0 0 0 0 0]\n",
      " [0 1 0 1 0 1 0 1]\n",
      " [0 0 0 0 0 0 0 0]\n",
      " [0 1 0 1 0 1 0 1]\n",
      " [0 0 0 0 0 0 0 0]]\n"
     ]
    }
   ],
   "source": [
    "  x = np.zeros((n, n), dtype = int)\n",
    "x[::2, 1::2] = 1\n",
    "print(x)"
   ]
  },
  {
   "cell_type": "code",
   "execution_count": null,
   "id": "dc2fe6e9",
   "metadata": {},
   "outputs": [],
   "source": []
  }
 ],
 "metadata": {
  "kernelspec": {
   "display_name": "Python 3",
   "language": "python",
   "name": "python3"
  },
  "language_info": {
   "codemirror_mode": {
    "name": "ipython",
    "version": 3
   },
   "file_extension": ".py",
   "mimetype": "text/x-python",
   "name": "python",
   "nbconvert_exporter": "python",
   "pygments_lexer": "ipython3",
   "version": "3.7.6"
  }
 },
 "nbformat": 4,
 "nbformat_minor": 5
}
